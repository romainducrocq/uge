{
 "cells": [
  {
   "cell_type": "code",
   "execution_count": 1,
   "metadata": {},
   "outputs": [
    {
     "name": "stdout",
     "output_type": "stream",
     "text": [
      "n1: 2, n4: 3, n5: 1\n",
      "cost_p: 480\n",
      "rs2: 0.5363803727541018\n"
     ]
    }
   ],
   "source": [
    "import numpy as np\n",
    "\n",
    "(n1, n4, n5) = (1, 1, 1)\n",
    "costs_p = [110, 70, 50]\n",
    "r_t5 = [0.659229, 0.817931, 0.880502, 0.460897, 0.999178]\n",
    "\n",
    "cost_p_min = np.inf\n",
    "rs2_t5_opt = 1\n",
    "n_max = 100\n",
    "\n",
    "for n1_i in range(1,n_max+1):\n",
    "    for n4_j in range(1,n_max+1):\n",
    "        for n5_k in range(1,n_max+1):\n",
    "            rs2_t5 = (1-pow((1-r_t5[0]),n1_i)) * r_t5[1] * r_t5[2] * (1-pow((1-r_t5[3]),n4_j)) * (1-pow((1-r_t5[4]),n5_k))\n",
    "            cost_p = costs_p[0]*n1_i + costs_p[1]*n4_j + costs_p[2]*n5_k\n",
    "            if 0.5 <= rs2_t5 and cost_p < cost_p_min:\n",
    "                (n1, n4, n5) = (n1_i, n4_j, n5_k)\n",
    "                cost_p_min = cost_p\n",
    "                rs2_t5_opt = rs2_t5\n",
    "\n",
    "print(f\"n1: {n1}, n4: {n4}, n5: {n5}\\ncost_p: {cost_p_min}\\nrs2: {rs2_t5_opt}\")"
   ]
  },
  {
   "cell_type": "code",
   "execution_count": null,
   "metadata": {},
   "outputs": [],
   "source": []
  }
 ],
 "metadata": {
  "kernelspec": {
   "display_name": "Python 3",
   "language": "python",
   "name": "python3"
  },
  "language_info": {
   "codemirror_mode": {
    "name": "ipython",
    "version": 3
   },
   "file_extension": ".py",
   "mimetype": "text/x-python",
   "name": "python",
   "nbconvert_exporter": "python",
   "pygments_lexer": "ipython3",
   "version": "3.8.5"
  }
 },
 "nbformat": 4,
 "nbformat_minor": 4
}
